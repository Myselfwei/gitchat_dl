{
 "cells": [
  {
   "cell_type": "markdown",
   "metadata": {},
   "source": [
    "### 导入数据"
   ]
  },
  {
   "cell_type": "code",
   "execution_count": 1,
   "metadata": {
    "collapsed": true
   },
   "outputs": [],
   "source": [
    "import torch\n",
    "import torchvision\n",
    "import torchvision.transforms as transforms\n",
    "import torch.nn as nn\n",
    "import torch.nn.functional as F\n",
    "import torch.optim as optim\n",
    "import matplotlib.pyplot as plt\n",
    "import numpy as np\n",
    "\n",
    "transform = transforms.Compose(\n",
    "    [transforms.ToTensor()])\n",
    "\n",
    "# 训练集\n",
    "trainset = torchvision.datasets.MNIST(root='./data',     # 选择数据的根目录\n",
    "                                      train=True,\n",
    "                                      download=False,    # 不从网络上download图片\n",
    "                                      transform=transform)\n",
    "trainloader = torch.utils.data.DataLoader(trainset, batch_size=4,\n",
    "                                         shuffle=True, num_workers=2)\n",
    "# 测试集\n",
    "testset = torchvision.datasets.MNIST(root='./data',     # 选择数据的根目录\n",
    "                                     train=False,\n",
    "                                     download=False,    # 不从网络上download图片\n",
    "                                     transform=transform)\n",
    "testloader = torch.utils.data.DataLoader(testset, batch_size=4,\n",
    "                                        shuffle=False, num_workers=2)"
   ]
  },
  {
   "cell_type": "markdown",
   "metadata": {},
   "source": [
    "接下来展示一些训练样本图像"
   ]
  },
  {
   "cell_type": "code",
   "execution_count": 2,
   "metadata": {},
   "outputs": [
    {
     "data": {
      "image/png": "[encoded data removed]",
      "text/plain": [
       "<matplotlib.figure.Figure at 0xae55ef0>"
      ]
     },
     "metadata": {},
     "output_type": "display_data"
    },
    {
     "name": "stdout",
     "output_type": "stream",
     "text": [
      "          0           0           9           8\n"
     ]
    }
   ],
   "source": [
    "def imshow(img):\n",
    "    npimg = img.numpy()\n",
    "    plt.imshow(np.transpose(npimg, (1, 2, 0)))\n",
    "\n",
    "# 选择一个 batch 的图片\n",
    "dataiter = iter(trainloader)\n",
    "images, labels = dataiter.next()\n",
    "\n",
    "# 显示图片\n",
    "imshow(torchvision.utils.make_grid(images))\n",
    "plt.show()\n",
    "# 打印 labels\n",
    "print(' '.join('%11s' % labels[j].numpy() for j in range(4)))"
   ]
  },
  {
   "cell_type": "markdown",
   "metadata": {},
   "source": [
    "### 定义卷积神经网络"
   ]
  },
  {
   "cell_type": "code",
   "execution_count": 3,
   "metadata": {
    "collapsed": true
   },
   "outputs": [],
   "source": [
    "class Net(nn.Module):\n",
    "    def __init__(self):\n",
    "        super(Net, self).__init__()\n",
    "        self.conv1 = nn.Conv2d(1, 6, 5)        # 1个输入图片通道，6个输出通道，5x5 卷积核\n",
    "        self.pool = nn.MaxPool2d(2, 2)         # max pooling，2x2\n",
    "        self.conv2 = nn.Conv2d(6, 16, 5)       # 6个输入图片通道，16个输出通道，5x5 卷积核\n",
    "        self.fc1 = nn.Linear(16 * 4 * 4, 120)  # 拉伸成一维向量，全连接层\n",
    "        self.fc2 = nn.Linear(120, 84)          # 全连接层 \n",
    "        self.fc3 = nn.Linear(84, 10)           # 全连接层，输出层 softmax，10个数字\n",
    "    \n",
    "    def forward(self, x):\n",
    "        x = self.pool(F.relu(self.conv1(x)))\n",
    "        x = self.pool(F.relu(self.conv2(x)))\n",
    "        x = x.view(-1, 16 * 4 * 4)    # 拉伸成一维向量\n",
    "        x = F.relu(self.fc1(x))\n",
    "        x = F.relu(self.fc2(x))\n",
    "        x = self.fc3(x)\n",
    "        return x"
   ]
  },
  {
   "cell_type": "code",
   "execution_count": 4,
   "metadata": {},
   "outputs": [
    {
     "name": "stdout",
     "output_type": "stream",
     "text": [
      "Net(\n",
      "  (conv1): Conv2d(1, 6, kernel_size=(5, 5), stride=(1, 1))\n",
      "  (pool): MaxPool2d(kernel_size=2, stride=2, padding=0, dilation=1, ceil_mode=False)\n",
      "  (conv2): Conv2d(6, 16, kernel_size=(5, 5), stride=(1, 1))\n",
      "  (fc1): Linear(in_features=256, out_features=120, bias=True)\n",
      "  (fc2): Linear(in_features=120, out_features=84, bias=True)\n",
      "  (fc3): Linear(in_features=84, out_features=10, bias=True)\n",
      ")\n"
     ]
    }
   ],
   "source": [
    "net = Net()\n",
    "print(net)  "
   ]
  },
  {
   "cell_type": "markdown",
   "metadata": {},
   "source": [
    "### 定义损失函数"
   ]
  },
  {
   "cell_type": "code",
   "execution_count": 5,
   "metadata": {
    "collapsed": true
   },
   "outputs": [],
   "source": [
    "criterion = nn.CrossEntropyLoss()\n",
    "optimizer = optim.Adam(net.parameters(), lr=0.0001)"
   ]
  },
  {
   "cell_type": "markdown",
   "metadata": {},
   "source": [
    "### 训练网络"
   ]
  },
  {
   "cell_type": "code",
   "execution_count": 6,
   "metadata": {},
   "outputs": [
    {
     "name": "stdout",
     "output_type": "stream",
     "text": [
      "[1,  2000] loss: 1.038\n",
      "[1,  4000] loss: 0.364\n",
      "[1,  6000] loss: 0.261\n",
      "[1,  8000] loss: 0.225\n",
      "[1, 10000] loss: 0.182\n",
      "[1, 12000] loss: 0.170\n",
      "[1, 14000] loss: 0.146\n",
      "[2,  2000] loss: 0.122\n",
      "[2,  4000] loss: 0.118\n",
      "[2,  6000] loss: 0.102\n",
      "[2,  8000] loss: 0.108\n",
      "[2, 10000] loss: 0.103\n",
      "[2, 12000] loss: 0.092\n",
      "[2, 14000] loss: 0.085\n",
      "[3,  2000] loss: 0.089\n",
      "[3,  4000] loss: 0.082\n",
      "[3,  6000] loss: 0.078\n",
      "[3,  8000] loss: 0.068\n",
      "[3, 10000] loss: 0.059\n",
      "[3, 12000] loss: 0.064\n",
      "[3, 14000] loss: 0.067\n",
      "[4,  2000] loss: 0.058\n",
      "[4,  4000] loss: 0.063\n",
      "[4,  6000] loss: 0.055\n",
      "[4,  8000] loss: 0.059\n",
      "[4, 10000] loss: 0.057\n",
      "[4, 12000] loss: 0.055\n",
      "[4, 14000] loss: 0.052\n",
      "[5,  2000] loss: 0.044\n",
      "[5,  4000] loss: 0.046\n",
      "[5,  6000] loss: 0.053\n",
      "[5,  8000] loss: 0.044\n",
      "[5, 10000] loss: 0.048\n",
      "[5, 12000] loss: 0.046\n",
      "[5, 14000] loss: 0.049\n"
     ]
    }
   ],
   "source": [
    "num_epoches = 5    # 设置 epoch 数目\n",
    "cost = []     # 损失函数累加\n",
    "\n",
    "for epoch in range(num_epoches):    \n",
    "    \n",
    "    running_loss = 0.0\n",
    "    for i, data in enumerate(trainloader, 0):\n",
    "        # 输入样本和标签\n",
    "        inputs, labels = data\n",
    "        \n",
    "        # 每次训练梯度清零\n",
    "        optimizer.zero_grad()\n",
    "        \n",
    "        # 正向传播、反向传播和优化过程\n",
    "        outputs = net(inputs)\n",
    "        loss = criterion(outputs, labels)\n",
    "        loss.backward()\n",
    "        optimizer.step()\n",
    "        \n",
    "        # 打印训练情况\n",
    "        running_loss += loss.item()\n",
    "        if i % 2000 == 1999:    # 每隔2000 mini-batches，打印一次\n",
    "            print('[%d, %5d] loss: %.3f' % \n",
    "                 (epoch + 1, i + 1, running_loss / 2000))\n",
    "            cost.append(running_loss / 2000)\n",
    "            running_loss = 0.0"
   ]
  },
  {
   "cell_type": "code",
   "execution_count": 8,
   "metadata": {},
   "outputs": [
    {
     "data": {
      "image/png": "[encoded data removed]",
      "text/plain": [
       "<matplotlib.figure.Figure at 0xc4b7cf8>"
      ]
     },
     "metadata": {},
     "output_type": "display_data"
    }
   ],
   "source": [
    "plt.plot(cost)\n",
    "plt.ylabel('cost')\n",
    "plt.show()"
   ]
  },
  {
   "cell_type": "markdown",
   "metadata": {},
   "source": [
    "### 测试数据"
   ]
  },
  {
   "cell_type": "code",
   "execution_count": 12,
   "metadata": {},
   "outputs": [
    {
     "name": "stdout",
     "output_type": "stream",
     "text": [
      "Accuracy of the network on the 10000 test images: 98.900 %\n"
     ]
    }
   ],
   "source": [
    "correct = 0\n",
    "total = 0\n",
    "with torch.no_grad():\n",
    "    for data in testloader:\n",
    "        images, labels = data\n",
    "        outputs = net(images)\n",
    "        _, predicted = torch.max(outputs.data, 1)\n",
    "        total += labels.size(0)\n",
    "        correct += (predicted == labels).sum().item()\n",
    "\n",
    "print('Accuracy of the network on the 10000 test images: %.3f %%' % \n",
    "     (100 * correct / total))"
   ]
  }
 ],
 "metadata": {
  "kernelspec": {
   "display_name": "Python 3",
   "language": "python",
   "name": "python3"
  },
  "language_info": {
   "codemirror_mode": {
    "name": "ipython",
    "version": 3
   },
   "file_extension": ".py",
   "mimetype": "text/x-python",
   "name": "python",
   "nbconvert_exporter": "python",
   "pygments_lexer": "ipython3",
   "version": "3.6.3"
  }
 },
 "nbformat": 4,
 "nbformat_minor": 2
}
